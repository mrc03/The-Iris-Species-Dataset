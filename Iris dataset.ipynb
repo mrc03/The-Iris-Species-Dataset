{
  "cells": [
    {
      "metadata": {
        "_uuid": "765d09f72e028095e8471cf9a4a03b01022c2007"
      },
      "cell_type": "markdown",
      "source": "## Iris Species Dataset                                                                                                                       "
    },
    {
      "metadata": {
        "_uuid": "63a37c890a8d0ae10d743007db9299d7801a3b0d"
      },
      "cell_type": "markdown",
      "source": "## Please star/ upvote if you find it helpful."
    },
    {
      "metadata": {
        "_uuid": "e62371c7148f67e92a2a253f048cfef4941931fd"
      },
      "cell_type": "markdown",
      "source": "## CONTENTS::"
    },
    {
      "metadata": {
        "_uuid": "1fdb08170d9123ed20ab02efdef4188744de717b"
      },
      "cell_type": "markdown",
      "source": "[ **1 ) Importing Various Modules**](#content1)"
    },
    {
      "metadata": {
        "_uuid": "39920466e00f69f498485fd73980c2fe4f3bb46d"
      },
      "cell_type": "markdown",
      "source": " [ **2 ) Loading the Dataset**](#content2)"
    },
    {
      "metadata": {
        "_uuid": "9b7f28ee9e683119e82355d79797adb0d88865ac"
      },
      "cell_type": "markdown",
      "source": " [ **3 )Exploring the Dataset**](#content3)"
    },
    {
      "metadata": {
        "_uuid": "5915ccb8d3b08c73a76d00a612cc54143d4bf475"
      },
      "cell_type": "markdown",
      "source": " [ **4 ) Preparing the Data**](#content4)"
    },
    {
      "metadata": {
        "_uuid": "9fa4e098874414adce3c1ff8f97531e0898f9277"
      },
      "cell_type": "markdown",
      "source": " [ **5 ) Modelling**](#content5)"
    },
    {
      "metadata": {
        "_uuid": "73538c0597a328eb016bdb62871e0533a92ab715"
      },
      "cell_type": "markdown",
      "source": " [ **6 ) Comparing Different Algortihms**](#content6)"
    },
    {
      "metadata": {
        "trusted": false,
        "_uuid": "3c798f0bbe1597b232ba541565c93c63e825170a"
      },
      "cell_type": "code",
      "source": "",
      "execution_count": null,
      "outputs": []
    },
    {
      "metadata": {
        "_uuid": "4ae39563925f994edd8d146b65724873f1a87dfe"
      },
      "cell_type": "markdown",
      "source": "<a id=\"content1\"></a>\n## 1 ) Importing Various Modules"
    },
    {
      "metadata": {
        "trusted": true,
        "_uuid": "9dd593b31c1bb48eff6bf3b5a648c790c7b5573b"
      },
      "cell_type": "code",
      "source": "# Ignore  the warnings\nimport warnings\nwarnings.filterwarnings('always')\nwarnings.filterwarnings('ignore')\n\n# data visualisation and manipulation\nimport numpy as np\nimport pandas as pd\nimport matplotlib.pyplot as plt\nimport seaborn as sns\nimport missingno as msno\n\n#configure\n# sets matplotlib to inline and displays graphs below the corressponding cell.\n%matplotlib inline  \n\n#scikit-learn.\nfrom sklearn.linear_model import LogisticRegression\nfrom sklearn.svm import LinearSVC\nfrom sklearn.svm import SVC\nfrom sklearn.neighbors import KNeighborsClassifier\nfrom sklearn.model_selection import train_test_split\nfrom sklearn.metrics import accuracy_score\nfrom sklearn.preprocessing import StandardScaler,LabelEncoder ",
      "execution_count": 2,
      "outputs": []
    },
    {
      "metadata": {
        "_uuid": "c0fcb7b78c043dbed5cc0275d0112ee0c8394c94"
      },
      "cell_type": "markdown",
      "source": "<a id=\"content2\"></a>\n## 2 ) Loading the Dataset"
    },
    {
      "metadata": {
        "trusted": true,
        "_uuid": "15d29fbb6ea14e29fcf8d82fbbe9e854a6ae02ec"
      },
      "cell_type": "code",
      "source": "train=pd.read_csv(r'../input/Iris.csv')",
      "execution_count": 3,
      "outputs": []
    },
    {
      "metadata": {
        "trusted": true,
        "_uuid": "76a30f24a22a8ae7f16949dc9ae62325e2d0b670"
      },
      "cell_type": "code",
      "source": "df=train.copy()",
      "execution_count": 4,
      "outputs": []
    },
    {
      "metadata": {
        "trusted": true,
        "_uuid": "1e4f6cda084fb4283d7f0183d0f55fbce4960570"
      },
      "cell_type": "code",
      "source": "df.head(10)",
      "execution_count": 5,
      "outputs": [
        {
          "output_type": "execute_result",
          "execution_count": 5,
          "data": {
            "text/plain": "   Id  SepalLengthCm     ...       PetalWidthCm      Species\n0   1            5.1     ...                0.2  Iris-setosa\n1   2            4.9     ...                0.2  Iris-setosa\n2   3            4.7     ...                0.2  Iris-setosa\n3   4            4.6     ...                0.2  Iris-setosa\n4   5            5.0     ...                0.2  Iris-setosa\n5   6            5.4     ...                0.4  Iris-setosa\n6   7            4.6     ...                0.3  Iris-setosa\n7   8            5.0     ...                0.2  Iris-setosa\n8   9            4.4     ...                0.2  Iris-setosa\n9  10            4.9     ...                0.1  Iris-setosa\n\n[10 rows x 6 columns]",
            "text/html": "<div>\n<style scoped>\n    .dataframe tbody tr th:only-of-type {\n        vertical-align: middle;\n    }\n\n    .dataframe tbody tr th {\n        vertical-align: top;\n    }\n\n    .dataframe thead th {\n        text-align: right;\n    }\n</style>\n<table border=\"1\" class=\"dataframe\">\n  <thead>\n    <tr style=\"text-align: right;\">\n      <th></th>\n      <th>Id</th>\n      <th>SepalLengthCm</th>\n      <th>SepalWidthCm</th>\n      <th>PetalLengthCm</th>\n      <th>PetalWidthCm</th>\n      <th>Species</th>\n    </tr>\n  </thead>\n  <tbody>\n    <tr>\n      <th>0</th>\n      <td>1</td>\n      <td>5.1</td>\n      <td>3.5</td>\n      <td>1.4</td>\n      <td>0.2</td>\n      <td>Iris-setosa</td>\n    </tr>\n    <tr>\n      <th>1</th>\n      <td>2</td>\n      <td>4.9</td>\n      <td>3.0</td>\n      <td>1.4</td>\n      <td>0.2</td>\n      <td>Iris-setosa</td>\n    </tr>\n    <tr>\n      <th>2</th>\n      <td>3</td>\n      <td>4.7</td>\n      <td>3.2</td>\n      <td>1.3</td>\n      <td>0.2</td>\n      <td>Iris-setosa</td>\n    </tr>\n    <tr>\n      <th>3</th>\n      <td>4</td>\n      <td>4.6</td>\n      <td>3.1</td>\n      <td>1.5</td>\n      <td>0.2</td>\n      <td>Iris-setosa</td>\n    </tr>\n    <tr>\n      <th>4</th>\n      <td>5</td>\n      <td>5.0</td>\n      <td>3.6</td>\n      <td>1.4</td>\n      <td>0.2</td>\n      <td>Iris-setosa</td>\n    </tr>\n    <tr>\n      <th>5</th>\n      <td>6</td>\n      <td>5.4</td>\n      <td>3.9</td>\n      <td>1.7</td>\n      <td>0.4</td>\n      <td>Iris-setosa</td>\n    </tr>\n    <tr>\n      <th>6</th>\n      <td>7</td>\n      <td>4.6</td>\n      <td>3.4</td>\n      <td>1.4</td>\n      <td>0.3</td>\n      <td>Iris-setosa</td>\n    </tr>\n    <tr>\n      <th>7</th>\n      <td>8</td>\n      <td>5.0</td>\n      <td>3.4</td>\n      <td>1.5</td>\n      <td>0.2</td>\n      <td>Iris-setosa</td>\n    </tr>\n    <tr>\n      <th>8</th>\n      <td>9</td>\n      <td>4.4</td>\n      <td>2.9</td>\n      <td>1.4</td>\n      <td>0.2</td>\n      <td>Iris-setosa</td>\n    </tr>\n    <tr>\n      <th>9</th>\n      <td>10</td>\n      <td>4.9</td>\n      <td>3.1</td>\n      <td>1.5</td>\n      <td>0.1</td>\n      <td>Iris-setosa</td>\n    </tr>\n  </tbody>\n</table>\n</div>"
          },
          "metadata": {}
        }
      ]
    },
    {
      "metadata": {
        "_uuid": "704db49b961151f89d8dbc4b90337684753245a2"
      },
      "cell_type": "markdown",
      "source": "<a id=\"content3\"></a>\n## 3 ) Exploring the Dataset"
    },
    {
      "metadata": {
        "trusted": true,
        "_uuid": "549fb232a6df3e33eb6d9c0c3973b61c0474d5b7"
      },
      "cell_type": "code",
      "source": "df.shape",
      "execution_count": 6,
      "outputs": [
        {
          "output_type": "execute_result",
          "execution_count": 6,
          "data": {
            "text/plain": "(150, 6)"
          },
          "metadata": {}
        }
      ]
    },
    {
      "metadata": {
        "_uuid": "d8d99d0da99f3e3b46dd4b34843177ed73146f90"
      },
      "cell_type": "markdown",
      "source": "The dataset has 150 rows and 5 columns out of which the 'Species' is our target variable which we want to predict. "
    },
    {
      "metadata": {
        "trusted": true,
        "_uuid": "0901974c04c0dfb815c44cd0b2a98697cba6ff38"
      },
      "cell_type": "code",
      "source": "df.columns # names of all coumns.",
      "execution_count": 7,
      "outputs": [
        {
          "output_type": "execute_result",
          "execution_count": 7,
          "data": {
            "text/plain": "Index(['Id', 'SepalLengthCm', 'SepalWidthCm', 'PetalLengthCm', 'PetalWidthCm',\n       'Species'],\n      dtype='object')"
          },
          "metadata": {}
        }
      ]
    },
    {
      "metadata": {
        "_uuid": "bde92269003497e31addc57176fd3cf5ac0e3f64"
      },
      "cell_type": "markdown",
      "source": "Since the data frame is already indexed we will drop the 'Id' column."
    },
    {
      "metadata": {
        "trusted": true,
        "_uuid": "f3ad4d8412fe4355535e63ed4c7757cfa2e9e3f5"
      },
      "cell_type": "code",
      "source": "df.drop(['Id'],axis=1,inplace=True)",
      "execution_count": 8,
      "outputs": []
    },
    {
      "metadata": {
        "trusted": true,
        "_uuid": "e73e3d644ce1417037f68723aebd89ef4119fa56"
      },
      "cell_type": "code",
      "source": "df.index # indices of rows.",
      "execution_count": 9,
      "outputs": [
        {
          "output_type": "execute_result",
          "execution_count": 9,
          "data": {
            "text/plain": "RangeIndex(start=0, stop=150, step=1)"
          },
          "metadata": {}
        }
      ]
    },
    {
      "metadata": {
        "_uuid": "c045251fa4e91a1afc184544fe317f57dfb4b53e"
      },
      "cell_type": "markdown",
      "source": "#### Now we can check if any column has any null or 'Nan' values or not."
    },
    {
      "metadata": {
        "trusted": true,
        "_uuid": "4964ca07df7bc37aa1bc7427b7ce0f78d70b416e"
      },
      "cell_type": "code",
      "source": "df.isnull().any()",
      "execution_count": 10,
      "outputs": [
        {
          "output_type": "execute_result",
          "execution_count": 10,
          "data": {
            "text/plain": "SepalLengthCm    False\nSepalWidthCm     False\nPetalLengthCm    False\nPetalWidthCm     False\nSpecies          False\ndtype: bool"
          },
          "metadata": {}
        }
      ]
    },
    {
      "metadata": {
        "_uuid": "9204e7ab4a1a88939c0f81ad9edfba8390a9385c"
      },
      "cell_type": "markdown",
      "source": "This shows that there aren't any 'Nan' values in any column."
    },
    {
      "metadata": {
        "trusted": true,
        "_uuid": "bb4eaf686220ec2bd876909d5bf5fbb8c0a97941"
      },
      "cell_type": "code",
      "source": "msno.matrix(df) # just one final time to visualize.",
      "execution_count": 11,
      "outputs": [
        {
          "output_type": "execute_result",
          "execution_count": 11,
          "data": {
            "text/plain": "<matplotlib.axes._subplots.AxesSubplot at 0x7f2bd7b2a3c8>"
          },
          "metadata": {}
        },
        {
          "output_type": "display_data",
          "data": {
            "text/plain": "<Figure size 1800x720 with 2 Axes>",
            "image/png": "[encoded data removed]"
          },
          "metadata": {
            "needs_background": "light"
          }
        }
      ]
    },
    {
      "metadata": {
        "trusted": true,
        "_uuid": "f1aad34926441f3de5944b91d616ffd509274687"
      },
      "cell_type": "code",
      "source": "for col in df.columns:\n    print(\"Number of values in column \" ,col,\" : \",df[col].count())",
      "execution_count": 12,
      "outputs": [
        {
          "output_type": "stream",
          "text": "Number of values in column  SepalLengthCm  :  150\nNumber of values in column  SepalWidthCm  :  150\nNumber of values in column  PetalLengthCm  :  150\nNumber of values in column  PetalWidthCm  :  150\nNumber of values in column  Species  :  150\n",
          "name": "stdout"
        }
      ]
    },
    {
      "metadata": {
        "trusted": true,
        "_uuid": "d918151236fe5eb4171be01b69a8cd88de457ec8"
      },
      "cell_type": "code",
      "source": "df.describe()",
      "execution_count": 13,
      "outputs": [
        {
          "output_type": "execute_result",
          "execution_count": 13,
          "data": {
            "text/plain": "       SepalLengthCm  SepalWidthCm  PetalLengthCm  PetalWidthCm\ncount     150.000000    150.000000     150.000000    150.000000\nmean        5.843333      3.054000       3.758667      1.198667\nstd         0.828066      0.433594       1.764420      0.763161\nmin         4.300000      2.000000       1.000000      0.100000\n25%         5.100000      2.800000       1.600000      0.300000\n50%         5.800000      3.000000       4.350000      1.300000\n75%         6.400000      3.300000       5.100000      1.800000\nmax         7.900000      4.400000       6.900000      2.500000",
            "text/html": "<div>\n<style scoped>\n    .dataframe tbody tr th:only-of-type {\n        vertical-align: middle;\n    }\n\n    .dataframe tbody tr th {\n        vertical-align: top;\n    }\n\n    .dataframe thead th {\n        text-align: right;\n    }\n</style>\n<table border=\"1\" class=\"dataframe\">\n  <thead>\n    <tr style=\"text-align: right;\">\n      <th></th>\n      <th>SepalLengthCm</th>\n      <th>SepalWidthCm</th>\n      <th>PetalLengthCm</th>\n      <th>PetalWidthCm</th>\n    </tr>\n  </thead>\n  <tbody>\n    <tr>\n      <th>count</th>\n      <td>150.000000</td>\n      <td>150.000000</td>\n      <td>150.000000</td>\n      <td>150.000000</td>\n    </tr>\n    <tr>\n      <th>mean</th>\n      <td>5.843333</td>\n      <td>3.054000</td>\n      <td>3.758667</td>\n      <td>1.198667</td>\n    </tr>\n    <tr>\n      <th>std</th>\n      <td>0.828066</td>\n      <td>0.433594</td>\n      <td>1.764420</td>\n      <td>0.763161</td>\n    </tr>\n    <tr>\n      <th>min</th>\n      <td>4.300000</td>\n      <td>2.000000</td>\n      <td>1.000000</td>\n      <td>0.100000</td>\n    </tr>\n    <tr>\n      <th>25%</th>\n      <td>5.100000</td>\n      <td>2.800000</td>\n      <td>1.600000</td>\n      <td>0.300000</td>\n    </tr>\n    <tr>\n      <th>50%</th>\n      <td>5.800000</td>\n      <td>3.000000</td>\n      <td>4.350000</td>\n      <td>1.300000</td>\n    </tr>\n    <tr>\n      <th>75%</th>\n      <td>6.400000</td>\n      <td>3.300000</td>\n      <td>5.100000</td>\n      <td>1.800000</td>\n    </tr>\n    <tr>\n      <th>max</th>\n      <td>7.900000</td>\n      <td>4.400000</td>\n      <td>6.900000</td>\n      <td>2.500000</td>\n    </tr>\n  </tbody>\n</table>\n</div>"
          },
          "metadata": {}
        }
      ]
    },
    {
      "metadata": {
        "_uuid": "00ce8f4e0ef5f9504455501f57b6bd72c97c6e79"
      },
      "cell_type": "markdown",
      "source": "This shows the different statistical quantities like mean, median etc.. of all the numeric columns in the data frame."
    },
    {
      "metadata": {
        "_uuid": "0ee8076bbb82d4396d488949dd218bab45b244a7"
      },
      "cell_type": "markdown",
      "source": "####  VISUALIZING THE DISTRIBUTIION OF FEATURES."
    },
    {
      "metadata": {
        "trusted": true,
        "_uuid": "6c5f743735b53cffdd0ec5fcac157575378be00f"
      },
      "cell_type": "code",
      "source": "def plot(feature):\n    fig,axes=plt.subplots(1,2)\n    sns.boxplot(data=df,x=feature,ax=axes[0])\n    sns.distplot(a=df[feature],ax=axes[1],color='#ff4125')\n    fig.set_size_inches(15,5)",
      "execution_count": 14,
      "outputs": []
    },
    {
      "metadata": {
        "trusted": true,
        "_uuid": "afd231ccee190685498c02961f614377c3c8d0ef"
      },
      "cell_type": "code",
      "source": "plot('SepalLengthCm')",
      "execution_count": 15,
      "outputs": [
        {
          "output_type": "display_data",
          "data": {
            "text/plain": "<Figure size 1080x360 with 2 Axes>",
            "image/png": "[encoded data removed]"
          },
          "metadata": {
            "needs_background": "light"
          }
        }
      ]
    },
    {
      "metadata": {
        "trusted": true,
        "_uuid": "a035d738ce9d65442ad554b121df83b5af685ac7"
      },
      "cell_type": "code",
      "source": "plot('SepalWidthCm')",
      "execution_count": 16,
      "outputs": [
        {
          "output_type": "display_data",
          "data": {
            "text/plain": "<Figure size 1080x360 with 2 Axes>",
            "image/png": "[encoded data removed]"
          },
          "metadata": {
            "needs_background": "light"
          }
        }
      ]
    },
    {
      "metadata": {
        "trusted": true,
        "_uuid": "47e281bdee55462be082adbf0dadaf3ec3361bf1"
      },
      "cell_type": "code",
      "source": "plot('PetalLengthCm')",
      "execution_count": 17,
      "outputs": [
        {
          "output_type": "display_data",
          "data": {
            "text/plain": "<Figure size 1080x360 with 2 Axes>",
            "image/png": "[encoded data removed]"
          },
          "metadata": {
            "needs_background": "light"
          }
        }
      ]
    },
    {
      "metadata": {
        "trusted": true,
        "_uuid": "3ab8433e2dfb760d576314c383de11a17ca28779"
      },
      "cell_type": "code",
      "source": "plot('PetalWidthCm')",
      "execution_count": 18,
      "outputs": [
        {
          "output_type": "display_data",
          "data": {
            "text/plain": "<Figure size 1080x360 with 2 Axes>",
            "image/png": "[encoded data removed]"
          },
          "metadata": {
            "needs_background": "light"
          }
        }
      ]
    },
    {
      "metadata": {
        "_uuid": "15ae85fa3e48bc068b68e7cfe303db49bfd8befb"
      },
      "cell_type": "markdown",
      "source": "<a id=\"content4\"></a>\n## 4 ) Preparing the Data"
    },
    {
      "metadata": {
        "_uuid": "cb9561cc8a4aa49dd0602c3572b99ca4e36a4f42"
      },
      "cell_type": "markdown",
      "source": "#### LABEL ENCODING THE TARGET"
    },
    {
      "metadata": {
        "_uuid": "663d768717ab480f6a02812f590c72722e2f9243"
      },
      "cell_type": "markdown",
      "source": "Since the algorithms accept only numeric values we will encode the 'Species' column using the Labelencoder() from scikit learn."
    },
    {
      "metadata": {
        "trusted": true,
        "_uuid": "36a5d5fa8d912324ebad2b696a6eda809727e6ba"
      },
      "cell_type": "code",
      "source": "le=LabelEncoder()\ndf['Species']=le.fit_transform(df['Species'])",
      "execution_count": 19,
      "outputs": []
    },
    {
      "metadata": {
        "_uuid": "7dd1dd2b55e2c99c0ab2d2335de08cd36e1868d3"
      },
      "cell_type": "markdown",
      "source": "#### NORMALIZING FEATURES "
    },
    {
      "metadata": {
        "_uuid": "5c607bb62ea554e23aa2cb70d51455a9b84b1275"
      },
      "cell_type": "markdown",
      "source": "Normalizing the features give better performance. Hence I have normalized all the features by scaling them to 0 mean and a unit standard deviation."
    },
    {
      "metadata": {
        "trusted": true,
        "_uuid": "515e3d96ebeaa0ec344d964f7595207437676815"
      },
      "cell_type": "code",
      "source": "scaler=StandardScaler()\nscaled_df=scaler.fit_transform(df.drop('Species',axis=1))\nX=scaled_df\nY=df['Species'].as_matrix()",
      "execution_count": 20,
      "outputs": []
    },
    {
      "metadata": {
        "trusted": true,
        "_uuid": "739f3b0c55aabc292649cc70e37a60ad4cc46b4d"
      },
      "cell_type": "code",
      "source": "df.head(10)",
      "execution_count": 21,
      "outputs": [
        {
          "output_type": "execute_result",
          "execution_count": 21,
          "data": {
            "text/plain": "   SepalLengthCm  SepalWidthCm  PetalLengthCm  PetalWidthCm  Species\n0            5.1           3.5            1.4           0.2        0\n1            4.9           3.0            1.4           0.2        0\n2            4.7           3.2            1.3           0.2        0\n3            4.6           3.1            1.5           0.2        0\n4            5.0           3.6            1.4           0.2        0\n5            5.4           3.9            1.7           0.4        0\n6            4.6           3.4            1.4           0.3        0\n7            5.0           3.4            1.5           0.2        0\n8            4.4           2.9            1.4           0.2        0\n9            4.9           3.1            1.5           0.1        0",
            "text/html": "<div>\n<style scoped>\n    .dataframe tbody tr th:only-of-type {\n        vertical-align: middle;\n    }\n\n    .dataframe tbody tr th {\n        vertical-align: top;\n    }\n\n    .dataframe thead th {\n        text-align: right;\n    }\n</style>\n<table border=\"1\" class=\"dataframe\">\n  <thead>\n    <tr style=\"text-align: right;\">\n      <th></th>\n      <th>SepalLengthCm</th>\n      <th>SepalWidthCm</th>\n      <th>PetalLengthCm</th>\n      <th>PetalWidthCm</th>\n      <th>Species</th>\n    </tr>\n  </thead>\n  <tbody>\n    <tr>\n      <th>0</th>\n      <td>5.1</td>\n      <td>3.5</td>\n      <td>1.4</td>\n      <td>0.2</td>\n      <td>0</td>\n    </tr>\n    <tr>\n      <th>1</th>\n      <td>4.9</td>\n      <td>3.0</td>\n      <td>1.4</td>\n      <td>0.2</td>\n      <td>0</td>\n    </tr>\n    <tr>\n      <th>2</th>\n      <td>4.7</td>\n      <td>3.2</td>\n      <td>1.3</td>\n      <td>0.2</td>\n      <td>0</td>\n    </tr>\n    <tr>\n      <th>3</th>\n      <td>4.6</td>\n      <td>3.1</td>\n      <td>1.5</td>\n      <td>0.2</td>\n      <td>0</td>\n    </tr>\n    <tr>\n      <th>4</th>\n      <td>5.0</td>\n      <td>3.6</td>\n      <td>1.4</td>\n      <td>0.2</td>\n      <td>0</td>\n    </tr>\n    <tr>\n      <th>5</th>\n      <td>5.4</td>\n      <td>3.9</td>\n      <td>1.7</td>\n      <td>0.4</td>\n      <td>0</td>\n    </tr>\n    <tr>\n      <th>6</th>\n      <td>4.6</td>\n      <td>3.4</td>\n      <td>1.4</td>\n      <td>0.3</td>\n      <td>0</td>\n    </tr>\n    <tr>\n      <th>7</th>\n      <td>5.0</td>\n      <td>3.4</td>\n      <td>1.5</td>\n      <td>0.2</td>\n      <td>0</td>\n    </tr>\n    <tr>\n      <th>8</th>\n      <td>4.4</td>\n      <td>2.9</td>\n      <td>1.4</td>\n      <td>0.2</td>\n      <td>0</td>\n    </tr>\n    <tr>\n      <th>9</th>\n      <td>4.9</td>\n      <td>3.1</td>\n      <td>1.5</td>\n      <td>0.1</td>\n      <td>0</td>\n    </tr>\n  </tbody>\n</table>\n</div>"
          },
          "metadata": {}
        }
      ]
    },
    {
      "metadata": {
        "_uuid": "6a141ee8c5283658d73ba4737444cd88b30119e4"
      },
      "cell_type": "markdown",
      "source": "#### SPLITTING INTO TRAINING & VALIDATION SETS."
    },
    {
      "metadata": {
        "trusted": true,
        "_uuid": "b245cdf7b364f9a90c824e3f699e34ed1891e960"
      },
      "cell_type": "code",
      "source": "x_train,x_test,y_train,y_test=train_test_split(X,Y,test_size=0.20,random_state=42)",
      "execution_count": 22,
      "outputs": []
    },
    {
      "metadata": {
        "_uuid": "db3f812d646639825a4acbb2662d0fe39791d8f2"
      },
      "cell_type": "markdown",
      "source": "<a id=\"content5\"></a>\n## 5 ) MODELLING"
    },
    {
      "metadata": {
        "_uuid": "0d83f0f1d833db8392b6b693c2292c56751ef272"
      },
      "cell_type": "markdown",
      "source": "#### LOGISTIC REGRESSION"
    },
    {
      "metadata": {
        "trusted": true,
        "_uuid": "ccd1e261bf8cb6c577e5f1169eef4f34f4fd3133"
      },
      "cell_type": "code",
      "source": "clf_lr=LogisticRegression(C=10)\nclf_lr.fit(x_train,y_train)\npred=clf_lr.predict(x_test)\nprint(accuracy_score(pred,y_test))",
      "execution_count": 23,
      "outputs": [
        {
          "output_type": "stream",
          "text": "1.0\n",
          "name": "stdout"
        }
      ]
    },
    {
      "metadata": {
        "_uuid": "9ed1e634faf70b9eb6f3fdf67db4f3291a3dd400"
      },
      "cell_type": "markdown",
      "source": "#### kNN"
    },
    {
      "metadata": {
        "trusted": true,
        "_uuid": "e144c0185c65d2f13fc30e827284f194cad2f10b"
      },
      "cell_type": "code",
      "source": "clf_knn=KNeighborsClassifier()\nclf_knn.fit(x_train,y_train)\npred=clf_knn.predict(x_test)\nprint(accuracy_score(pred,y_test))",
      "execution_count": 24,
      "outputs": [
        {
          "output_type": "stream",
          "text": "1.0\n",
          "name": "stdout"
        }
      ]
    },
    {
      "metadata": {
        "_uuid": "54e7df6fd42e538891a1564f195d89612ffc5ee3"
      },
      "cell_type": "markdown",
      "source": "#### Linear Support Vector Machine(SVM)"
    },
    {
      "metadata": {
        "trusted": true,
        "_uuid": "6ac569a2bf56db352cdfa33e9d5a451814271f66"
      },
      "cell_type": "code",
      "source": "clf_svm_lin=LinearSVC()\nclf_svm_lin.fit(x_train,y_train)\npred=clf_svm_lin.predict(x_test)\nprint(accuracy_score(pred,y_test))",
      "execution_count": 25,
      "outputs": [
        {
          "output_type": "stream",
          "text": "1.0\n",
          "name": "stdout"
        }
      ]
    },
    {
      "metadata": {
        "_uuid": "39da6f22ea86fd4ccadb1141489be4814011d5e2"
      },
      "cell_type": "markdown",
      "source": "#### SVM (with 'rbf' kernel)"
    },
    {
      "metadata": {
        "trusted": true,
        "_uuid": "02baaf7b7d9ca55926b3e90feeee71db888e09e7"
      },
      "cell_type": "code",
      "source": "clf_svm=SVC()\nclf_svm.fit(x_train,y_train)\npred=clf_svm.predict(x_test)\nprint(accuracy_score(pred,y_test))",
      "execution_count": 26,
      "outputs": [
        {
          "output_type": "stream",
          "text": "1.0\n",
          "name": "stdout"
        }
      ]
    },
    {
      "metadata": {
        "_uuid": "540122f365a838d1360932ec6ccc7c3e5a83f32a"
      },
      "cell_type": "markdown",
      "source": "<a id=\"content6\"></a>\n## 6 ) COMPARING DIFFERENT ALGORITHMS"
    },
    {
      "metadata": {
        "trusted": true,
        "_uuid": "ac7447c0f9f876e2782195b322cdff4cfede7fd6"
      },
      "cell_type": "code",
      "source": "models=[LogisticRegression(),LinearSVC(),SVC(),KNeighborsClassifier()]\nmodel_names=['LogisticRegression','LinearSVM','rbfSVM','KNearestNeighbors']\n\nacc=[]\nd={}\n\nfor model in range(len(models)):\n    clf=models[model]\n    clf.fit(x_train,y_train)\n    pred=clf.predict(x_test)\n    acc.append(accuracy_score(pred,y_test))\n     \nd={'Modelling Algo':model_names,'Accuracy':acc}",
      "execution_count": 27,
      "outputs": []
    },
    {
      "metadata": {
        "trusted": true,
        "_uuid": "22b21d64271357a08dae230193b79678fb3e2eed"
      },
      "cell_type": "code",
      "source": "acc_frame=pd.DataFrame(d)\nacc_frame",
      "execution_count": 28,
      "outputs": [
        {
          "output_type": "execute_result",
          "execution_count": 28,
          "data": {
            "text/plain": "       Modelling Algo  Accuracy\n0  LogisticRegression  0.966667\n1           LinearSVM  1.000000\n2              rbfSVM  1.000000\n3   KNearestNeighbors  1.000000",
            "text/html": "<div>\n<style scoped>\n    .dataframe tbody tr th:only-of-type {\n        vertical-align: middle;\n    }\n\n    .dataframe tbody tr th {\n        vertical-align: top;\n    }\n\n    .dataframe thead th {\n        text-align: right;\n    }\n</style>\n<table border=\"1\" class=\"dataframe\">\n  <thead>\n    <tr style=\"text-align: right;\">\n      <th></th>\n      <th>Modelling Algo</th>\n      <th>Accuracy</th>\n    </tr>\n  </thead>\n  <tbody>\n    <tr>\n      <th>0</th>\n      <td>LogisticRegression</td>\n      <td>0.966667</td>\n    </tr>\n    <tr>\n      <th>1</th>\n      <td>LinearSVM</td>\n      <td>1.000000</td>\n    </tr>\n    <tr>\n      <th>2</th>\n      <td>rbfSVM</td>\n      <td>1.000000</td>\n    </tr>\n    <tr>\n      <th>3</th>\n      <td>KNearestNeighbors</td>\n      <td>1.000000</td>\n    </tr>\n  </tbody>\n</table>\n</div>"
          },
          "metadata": {}
        }
      ]
    },
    {
      "metadata": {
        "trusted": true,
        "_uuid": "676cea67c41da593963f25f1a41b1d9e116509fe"
      },
      "cell_type": "code",
      "source": "sns.factorplot(data=acc_frame,y='Modelling Algo',x='Accuracy',kind='bar',size=5,aspect=1.5)",
      "execution_count": 29,
      "outputs": [
        {
          "output_type": "execute_result",
          "execution_count": 29,
          "data": {
            "text/plain": "<seaborn.axisgrid.FacetGrid at 0x7f2bd7afb630>"
          },
          "metadata": {}
        },
        {
          "output_type": "display_data",
          "data": {
            "text/plain": "<Figure size 540x360 with 1 Axes>",
            "image/png": "[encoded data removed]"
          },
          "metadata": {
            "needs_background": "light"
          }
        }
      ]
    },
    {
      "metadata": {
        "_uuid": "1b44ff86f224413b3ea29473b1c630cac2cc052b"
      },
      "cell_type": "markdown",
      "source": ""
    },
    {
      "metadata": {
        "_uuid": "86160fbd3d1366c6fdd1c44462d7c5ae713b7ea7"
      },
      "cell_type": "markdown",
      "source": "##  THE END !!!"
    },
    {
      "metadata": {
        "_uuid": "0d9bf64657e67d580e7d367dd6aedaf14c6996e7"
      },
      "cell_type": "markdown",
      "source": "## Please star/upvote if you liked it."
    },
    {
      "metadata": {
        "trusted": true,
        "_uuid": "d08136d5cb661d617c7f8004a9f9c804d1f75e2a"
      },
      "cell_type": "code",
      "source": "",
      "execution_count": null,
      "outputs": []
    }
  ],
  "metadata": {
    "kernelspec": {
      "display_name": "Python 3",
      "language": "python",
      "name": "python3"
    },
    "language_info": {
      "codemirror_mode": {
        "name": "ipython",
        "version": 3
      },
      "file_extension": ".py",
      "mimetype": "text/x-python",
      "name": "python",
      "nbconvert_exporter": "python",
      "pygments_lexer": "ipython3",
      "version": "3.6.6"
    }
  },
  "nbformat": 4,
  "nbformat_minor": 1
}